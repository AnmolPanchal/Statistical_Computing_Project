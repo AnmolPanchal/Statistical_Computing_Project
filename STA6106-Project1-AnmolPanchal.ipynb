{
 "cells": [
  {
   "cell_type": "markdown",
   "metadata": {},
   "source": [
    "# Problem 1"
   ]
  },
  {
   "cell_type": "code",
   "execution_count": 831,
   "metadata": {},
   "outputs": [],
   "source": [
    "import pandas as pd\n",
    "import numpy as np\n",
    "import math\n",
    "from sklearn.metrics import f1_score\n",
    "from sklearn.model_selection import train_test_split\n",
    "import matplotlib as mp\n",
    "import matplotlib.pyplot as plt"
   ]
  },
  {
   "cell_type": "code",
   "execution_count": 832,
   "metadata": {},
   "outputs": [],
   "source": [
    "data = pd.read_csv(\"charlie.csv\")"
   ]
  },
  {
   "cell_type": "code",
   "execution_count": 833,
   "metadata": {},
   "outputs": [
    {
     "data": {
      "text/html": [
       "<div>\n",
       "<style scoped>\n",
       "    .dataframe tbody tr th:only-of-type {\n",
       "        vertical-align: middle;\n",
       "    }\n",
       "\n",
       "    .dataframe tbody tr th {\n",
       "        vertical-align: top;\n",
       "    }\n",
       "\n",
       "    .dataframe thead th {\n",
       "        text-align: right;\n",
       "    }\n",
       "</style>\n",
       "<table border=\"1\" class=\"dataframe\">\n",
       "  <thead>\n",
       "    <tr style=\"text-align: right;\">\n",
       "      <th></th>\n",
       "      <th>Data</th>\n",
       "      <th>x1</th>\n",
       "      <th>x2</th>\n",
       "      <th>x3</th>\n",
       "      <th>x4</th>\n",
       "    </tr>\n",
       "  </thead>\n",
       "  <tbody>\n",
       "    <tr>\n",
       "      <th>0</th>\n",
       "      <td>1</td>\n",
       "      <td>10.0</td>\n",
       "      <td>20.7</td>\n",
       "      <td>13.6</td>\n",
       "      <td>15.5</td>\n",
       "    </tr>\n",
       "    <tr>\n",
       "      <th>1</th>\n",
       "      <td>1</td>\n",
       "      <td>10.5</td>\n",
       "      <td>19.9</td>\n",
       "      <td>18.1</td>\n",
       "      <td>14.8</td>\n",
       "    </tr>\n",
       "    <tr>\n",
       "      <th>2</th>\n",
       "      <td>1</td>\n",
       "      <td>9.7</td>\n",
       "      <td>20.0</td>\n",
       "      <td>16.1</td>\n",
       "      <td>16.5</td>\n",
       "    </tr>\n",
       "    <tr>\n",
       "      <th>3</th>\n",
       "      <td>1</td>\n",
       "      <td>9.8</td>\n",
       "      <td>20.2</td>\n",
       "      <td>19.1</td>\n",
       "      <td>17.1</td>\n",
       "    </tr>\n",
       "    <tr>\n",
       "      <th>4</th>\n",
       "      <td>1</td>\n",
       "      <td>11.7</td>\n",
       "      <td>21.5</td>\n",
       "      <td>19.8</td>\n",
       "      <td>18.3</td>\n",
       "    </tr>\n",
       "  </tbody>\n",
       "</table>\n",
       "</div>"
      ],
      "text/plain": [
       "   Data    x1    x2    x3    x4\n",
       "0     1  10.0  20.7  13.6  15.5\n",
       "1     1  10.5  19.9  18.1  14.8\n",
       "2     1   9.7  20.0  16.1  16.5\n",
       "3     1   9.8  20.2  19.1  17.1\n",
       "4     1  11.7  21.5  19.8  18.3"
      ]
     },
     "execution_count": 833,
     "metadata": {},
     "output_type": "execute_result"
    }
   ],
   "source": [
    "data.head()"
   ]
  },
  {
   "cell_type": "code",
   "execution_count": 834,
   "metadata": {},
   "outputs": [],
   "source": [
    "x = np.array(data.iloc[:,1:5])#Columns x1,x2,x3,x4 in x as features\n",
    "y = np.array(data.iloc[:,0])"
   ]
  },
  {
   "cell_type": "code",
   "execution_count": 835,
   "metadata": {},
   "outputs": [],
   "source": [
    "sigma = 1\n",
    "gamma = 0.6 #Value of C\n"
   ]
  },
  {
   "cell_type": "code",
   "execution_count": 836,
   "metadata": {},
   "outputs": [],
   "source": [
    "def Kernel(x, y, sigma):\n",
    "    return np.exp(-np.linalg.norm(x-y)**2 / ( (sigma ** 2)))"
   ]
  },
  {
   "cell_type": "code",
   "execution_count": 837,
   "metadata": {},
   "outputs": [],
   "source": [
    "def Omega(x, y, sigma):\n",
    "    length = len(x)\n",
    "    omega = np.zeros((length, length))\n",
    "    for i in range(length):\n",
    "        for j in range(length):\n",
    "            omega[i, j] = y[i] * y[j] * Kernel(x[i], x[j], sigma)\n",
    "    return omega"
   ]
  },
  {
   "cell_type": "code",
   "execution_count": 838,
   "metadata": {},
   "outputs": [],
   "source": [
    "def Classifier(x, y):\n",
    "    para = Train(x, y, sigma, gamma)\n",
    "    beta = para[0]\n",
    "    alpha = para[1 : len(para)]\n",
    "    return alpha, beta, para"
   ]
  },
  {
   "cell_type": "code",
   "execution_count": 839,
   "metadata": {},
   "outputs": [],
   "source": [
    "def Train(x, y, sigma, gamma):\n",
    "    length = len(x) + 1\n",
    "\n",
    "    A = np.zeros((length, length))\n",
    "    A[0][0] = 0\n",
    "    A[0, 1:length] = y.T\n",
    "    A[1:length, 0] = y\n",
    "    A[1:length, 1:length] = Omega(x, y, sigma) + np.eye(length - 1) / gamma\n",
    "\n",
    "    B = np.ones((length, 1))\n",
    "    B[0][0] = 0\n",
    "    return np.linalg.solve(A, B)"
   ]
  },
  {
   "cell_type": "code",
   "execution_count": 840,
   "metadata": {},
   "outputs": [],
   "source": [
    "def Pred(x_test):\n",
    "    preds = []\n",
    "    temp_pred = []\n",
    "    for i in range(len(x_test)):\n",
    "        for j in range(len(X_train)):\n",
    "            ans = alpha[j] * y_train[j] * Kernel(X_train[j], x_test[i], sigma)\n",
    "            temp_pred.append(ans)\n",
    "        preds.append(np.sum(temp_pred)+beta)\n",
    "        temp_pred = []\n",
    "    return preds, temp_pred"
   ]
  },
  {
   "cell_type": "code",
   "execution_count": 841,
   "metadata": {},
   "outputs": [],
   "source": [
    "X_train, X_test, y_train, y_test = train_test_split(x, y, test_size = 0.25)#Split the dataset into 75% for training and 25% for testing"
   ]
  },
  {
   "cell_type": "code",
   "execution_count": 842,
   "metadata": {},
   "outputs": [],
   "source": [
    "alpha, beta, para = Classifier(X_train, y_train)"
   ]
  },
  {
   "cell_type": "code",
   "execution_count": 843,
   "metadata": {},
   "outputs": [],
   "source": [
    "pred, test = Pred(X_test)"
   ]
  },
  {
   "cell_type": "code",
   "execution_count": 844,
   "metadata": {},
   "outputs": [],
   "source": [
    "#Normalization\n",
    "y_pred_vals = []\n",
    "for i in range(0, len(pred)):\n",
    "    deno = 0.9*(np.sign(pred[i])*(max(pred) + min(pred)) + (max(pred) - min(pred)))\n",
    "    num = 2*(np.abs(pred[i]))\n",
    "    yt = 1 - (num/deno)\n",
    "    if yt>0:\n",
    "        y_pred_vals.append(1)\n",
    "    elif yt<0:\n",
    "        y_pred_vals.append(-1)"
   ]
  },
  {
   "cell_type": "code",
   "execution_count": 845,
   "metadata": {},
   "outputs": [
    {
     "data": {
      "text/plain": [
       "array([[0, 1],\n",
       "       [1, 6]], dtype=int64)"
      ]
     },
     "execution_count": 845,
     "metadata": {},
     "output_type": "execute_result"
    }
   ],
   "source": [
    "from sklearn.metrics import confusion_matrix\n",
    "confusion_matrix(y_true = y_test, y_pred = y_pred_vals)"
   ]
  },
  {
   "cell_type": "code",
   "execution_count": 846,
   "metadata": {},
   "outputs": [
    {
     "data": {
      "text/plain": [
       "0.8571428571428571"
      ]
     },
     "execution_count": 846,
     "metadata": {},
     "output_type": "execute_result"
    }
   ],
   "source": [
    "f1_score(y_true = y_test, y_pred = y_pred_vals)\n",
    "#This score shows the accuracy percentage of the predicted values when compared to original dataset."
   ]
  },
  {
   "cell_type": "markdown",
   "metadata": {},
   "source": [
    "## Problem 2"
   ]
  },
  {
   "cell_type": "code",
   "execution_count": 847,
   "metadata": {},
   "outputs": [],
   "source": [
    "data = pd.read_csv(\"charlie1.csv\")"
   ]
  },
  {
   "cell_type": "code",
   "execution_count": 848,
   "metadata": {},
   "outputs": [],
   "source": [
    "x = np.array(data.iloc[:,1:3])\n",
    "y = np.array(data.iloc[:,0])"
   ]
  },
  {
   "cell_type": "code",
   "execution_count": 849,
   "metadata": {},
   "outputs": [
    {
     "data": {
      "text/plain": [
       "array([[ 0.291681, -0.6034  ],\n",
       "       [ 0.294281,  0.491533],\n",
       "       [ 0.197337,  0.640937],\n",
       "       [ 0.839022,  1.469579],\n",
       "       [ 3.204876,  0.879172],\n",
       "       [ 0.203271, -2.29514 ],\n",
       "       [-0.99211 ,  1.670464],\n",
       "       [-1.70241 , -0.36089 ],\n",
       "       [-0.14246 ,  0.560808],\n",
       "       [-0.99498 , -0.31493 ],\n",
       "       [ 0.944697,  0.504711],\n",
       "       [-1.2195  , -0.09129 ],\n",
       "       [ 2.608666, -0.42176 ],\n",
       "       [-0.12378 , -0.08767 ],\n",
       "       [-1.10423 ,  1.472593],\n",
       "       [-0.27825 , -0.94763 ],\n",
       "       [-2.65608 ,  0.135288],\n",
       "       [ 2.36528 , -1.30494 ],\n",
       "       [ 0.411311, -0.21893 ],\n",
       "       [-2.14662 , -1.17849 ],\n",
       "       [ 0.074196,  0.239359],\n",
       "       [-1.51756 , -0.21121 ],\n",
       "       [ 1.408476, -0.87591 ],\n",
       "       [ 6.298001, -3.67398 ],\n",
       "       [ 3.802025, -1.99584 ],\n",
       "       [ 6.490673, -2.73143 ],\n",
       "       [ 2.738829, -1.37617 ],\n",
       "       [ 4.958747, -3.94851 ],\n",
       "       [ 5.678092, -3.85838 ],\n",
       "       [ 3.369657, -2.10878 ]])"
      ]
     },
     "execution_count": 849,
     "metadata": {},
     "output_type": "execute_result"
    }
   ],
   "source": [
    "x"
   ]
  },
  {
   "cell_type": "code",
   "execution_count": 850,
   "metadata": {},
   "outputs": [
    {
     "data": {
      "text/plain": [
       "array([ 1,  1,  1,  1,  1,  1,  1,  1,  1,  1,  1,  1,  1,  1,  1,  1,  1,\n",
       "        1,  1,  1, -1, -1, -1, -1, -1, -1, -1, -1, -1, -1], dtype=int64)"
      ]
     },
     "execution_count": 850,
     "metadata": {},
     "output_type": "execute_result"
    }
   ],
   "source": [
    "y"
   ]
  },
  {
   "cell_type": "code",
   "execution_count": 851,
   "metadata": {},
   "outputs": [],
   "source": [
    "x_out = x[21:]\n",
    "y_out = y[21:]"
   ]
  },
  {
   "cell_type": "code",
   "execution_count": 852,
   "metadata": {},
   "outputs": [],
   "source": [
    "x = x[0:20]\n",
    "y = y[y>0]"
   ]
  },
  {
   "cell_type": "code",
   "execution_count": 853,
   "metadata": {},
   "outputs": [],
   "source": [
    "sigma = 1\n",
    "gamma = 0.1257360775345962"
   ]
  },
  {
   "cell_type": "code",
   "execution_count": 854,
   "metadata": {},
   "outputs": [],
   "source": [
    "def Gram_Matrix(x):\n",
    "    K = np.zeros((len(x),len(x)))\n",
    "    for i in range(0, len(x)):\n",
    "        for j in range(0, len(x)):\n",
    "            K[i, j] = Kernel(x[i], x[j], sigma)\n",
    "            \n",
    "    return K"
   ]
  },
  {
   "cell_type": "code",
   "execution_count": 855,
   "metadata": {},
   "outputs": [
    {
     "data": {
      "text/plain": [
       "array([[1.00000000e+00, 3.01530220e-01, 2.10709397e-01, 1.00838101e-02,\n",
       "        2.28919590e-05, 5.67102360e-02, 1.09327574e-03, 1.76819662e-02,\n",
       "        2.13555468e-01, 1.75746710e-01, 1.91218240e-01, 7.84005241e-02,\n",
       "        4.51020542e-03, 6.44948200e-01, 1.91447000e-03, 6.41904566e-01,\n",
       "        9.75685964e-05, 8.29608813e-03, 8.50331915e-01, 1.88083345e-03],\n",
       "       [3.01530220e-01, 1.00000000e+00, 9.68778098e-01, 2.85556110e-01,\n",
       "        1.80130810e-04, 4.20599607e-04, 4.76115401e-02, 8.97421404e-03,\n",
       "        8.22389027e-01, 9.90058345e-02, 6.54938047e-01, 7.19908994e-02,\n",
       "        2.04883891e-03, 6.00344804e-01, 5.40248183e-02, 9.08103615e-02,\n",
       "        1.46053067e-04, 5.44113824e-04, 5.95440569e-01, 1.58941474e-04],\n",
       "       [2.10709397e-01, 9.68778098e-01, 1.00000000e+00, 3.33401702e-01,\n",
       "        1.11437490e-04, 1.80355012e-04, 8.41874003e-02, 9.92502432e-03,\n",
       "        8.85252240e-01, 9.67812937e-02, 5.61521906e-01, 7.85842906e-02,\n",
       "        9.64565844e-04, 5.30474024e-01, 9.20219303e-02, 6.39452450e-02,\n",
       "        2.25391992e-04, 2.06251523e-04, 4.56048493e-01, 1.50063949e-04],\n",
       "       [1.00838101e-02, 2.85556110e-01, 3.33401702e-01, 1.00000000e+00,\n",
       "        2.61668881e-03, 4.66835690e-07, 3.35942894e-02, 5.49276677e-05,\n",
       "        1.67098529e-01, 1.43292753e-03, 3.89793774e-01, 1.26355657e-03,\n",
       "        1.22012362e-03, 3.50138305e-02, 2.29087254e-02, 8.32401159e-04,\n",
       "        8.34802670e-07, 4.41720128e-05, 4.81227932e-02, 1.21138953e-07],\n",
       "       [2.28919590e-05, 1.80130810e-04, 1.11437490e-04, 2.61668881e-03,\n",
       "        1.00000000e+00, 5.14166310e-09, 1.19703328e-08, 7.47684915e-12,\n",
       "        1.22987376e-05, 5.25193106e-09, 5.25471162e-03, 1.22920345e-09,\n",
       "        1.29006765e-01, 6.05434586e-06, 6.06614210e-09, 1.91309696e-07,\n",
       "        6.93924409e-16, 4.18911128e-03, 1.22202212e-04, 5.29251761e-15],\n",
       "       [5.67102360e-02, 4.20599607e-04, 1.80355012e-04, 4.66835690e-07,\n",
       "        5.14166310e-09, 1.00000000e+00, 3.54567987e-08, 6.28017117e-04,\n",
       "        2.54561296e-04, 4.71485506e-03, 2.27382227e-04, 1.02687801e-03,\n",
       "        9.18386128e-05, 6.87484516e-03, 1.23704420e-07, 1.29038345e-01,\n",
       "        7.65399127e-07, 3.50074682e-03, 1.28562063e-02, 1.14896363e-03],\n",
       "       [1.09327574e-03, 4.76115401e-02, 8.41874003e-02, 3.35942894e-02,\n",
       "        1.19703328e-08, 3.54567987e-08, 1.00000000e+00, 9.74573853e-03,\n",
       "        1.41813628e-01, 1.94132866e-02, 6.03486730e-03, 4.26177959e-02,\n",
       "        2.93789011e-08, 2.13857140e-02, 9.49591082e-01, 6.33650959e-04,\n",
       "        5.94287942e-03, 1.81878603e-09, 3.92888271e-03, 7.87342552e-05],\n",
       "       [1.76819662e-02, 8.97421404e-03, 9.92502432e-03, 5.49276677e-05,\n",
       "        7.47684915e-12, 6.28017117e-04, 9.74573853e-03, 1.00000000e+00,\n",
       "        3.75166214e-02, 6.04974164e-01, 4.27977232e-04, 7.36470404e-01,\n",
       "        8.45015177e-09, 7.67868525e-02, 2.42465916e-02, 9.32477329e-02,\n",
       "        3.14843661e-01, 2.67339287e-08, 1.12434549e-02, 4.20718092e-01],\n",
       "       [2.13555468e-01, 8.22389027e-01, 8.85252240e-01, 1.67098529e-01,\n",
       "        1.22987376e-05, 2.54561296e-04, 1.41813628e-01, 3.75166214e-02,\n",
       "        1.00000000e+00, 2.24538657e-01, 3.05728686e-01, 2.04897185e-01,\n",
       "        1.96640348e-04, 6.56473692e-01, 1.72673385e-01, 1.00879946e-01,\n",
       "        1.50441257e-03, 5.71531811e-05, 4.00655361e-01, 8.74537976e-04],\n",
       "       [1.75746710e-01, 9.90058345e-02, 9.67812937e-02, 1.43292753e-03,\n",
       "        5.25193106e-09, 4.71485506e-03, 1.94132866e-02, 6.04974164e-01,\n",
       "        2.24538657e-01, 1.00000000e+00, 1.18650493e-02, 9.04453776e-01,\n",
       "        2.26558593e-06, 4.44574983e-01, 4.04708208e-02, 4.00912860e-01,\n",
       "        5.17179968e-02, 4.68348968e-06, 1.37123901e-01, 1.25932332e-01],\n",
       "       [1.91218240e-01, 6.54938047e-01, 5.61521906e-01, 3.89793774e-01,\n",
       "        5.25471162e-03, 2.27382227e-04, 6.03486730e-03, 4.27977232e-04,\n",
       "        3.05728686e-01, 1.18650493e-02, 1.00000000e+00, 6.48044663e-03,\n",
       "        2.65920934e-02, 2.24796811e-01, 5.88765545e-03, 2.71903338e-02,\n",
       "        2.04100473e-06, 5.02719652e-03, 4.45678730e-01, 4.16245131e-06],\n",
       "       [7.84005241e-02, 7.19908994e-02, 7.85842906e-02, 1.26355657e-03,\n",
       "        1.22920345e-09, 1.02687801e-03, 4.26177959e-02, 7.36470404e-01,\n",
       "        2.04897185e-01, 9.04453776e-01, 6.48044663e-03, 1.00000000e+00,\n",
       "        3.87300351e-07, 3.01008907e-01, 8.55189568e-02, 1.98043266e-01,\n",
       "        1.20621265e-01, 6.01647584e-07, 6.88492128e-02, 1.29826630e-01],\n",
       "       [4.51020542e-03, 2.04883891e-03, 9.64565844e-04, 1.22012362e-03,\n",
       "        1.29006765e-01, 9.18386128e-05, 2.93789011e-08, 8.45015177e-09,\n",
       "        1.96640348e-04, 2.26558593e-06, 2.65920934e-02, 3.87300351e-07,\n",
       "        1.00000000e+00, 5.11646157e-04, 2.84769743e-08, 1.82123916e-04,\n",
       "        6.72447120e-13, 4.32037168e-01, 7.67713380e-03, 8.52540721e-11],\n",
       "       [6.44948200e-01, 6.00344804e-01, 5.30474024e-01, 3.50138305e-02,\n",
       "        6.05434586e-06, 6.87484516e-03, 2.13857140e-02, 7.67868525e-02,\n",
       "        6.56473692e-01, 4.44574983e-01, 2.24796811e-01, 3.01008907e-01,\n",
       "        5.11646157e-04, 1.00000000e+00, 3.35169891e-02, 4.66082705e-01,\n",
       "        1.56127332e-03, 4.63286022e-04, 7.38191823e-01, 5.08342548e-03],\n",
       "       [1.91447000e-03, 5.40248183e-02, 9.20219303e-02, 2.29087254e-02,\n",
       "        6.06614210e-09, 1.23704420e-07, 9.49591082e-01, 2.42465916e-02,\n",
       "        1.72673385e-01, 4.04708208e-02, 5.88765545e-03, 8.55189568e-02,\n",
       "        2.84769743e-08, 3.35169891e-02, 1.00000000e+00, 1.44488965e-03,\n",
       "        1.50463012e-02, 2.64078608e-09, 5.75253540e-03, 2.99074460e-04],\n",
       "       [6.41904566e-01, 9.08103615e-02, 6.39452450e-02, 8.32401159e-04,\n",
       "        1.91309696e-07, 1.29038345e-01, 6.33650959e-04, 9.32477329e-02,\n",
       "        1.00879946e-01, 4.00912860e-01, 2.71903338e-02, 1.98043266e-01,\n",
       "        1.82123916e-04, 4.66082705e-01, 1.44488965e-03, 1.00000000e+00,\n",
       "        1.08433660e-03, 8.12072207e-04, 3.65496688e-01, 2.88945352e-02],\n",
       "       [9.75685964e-05, 1.46053067e-04, 2.25391992e-04, 8.34802670e-07,\n",
       "        6.93924409e-16, 7.65399127e-07, 5.94287942e-03, 3.14843661e-01,\n",
       "        1.50441257e-03, 5.17179968e-02, 2.04100473e-06, 1.20621265e-01,\n",
       "        6.72447120e-13, 1.56127332e-03, 1.50463012e-02, 1.08433660e-03,\n",
       "        1.00000000e+00, 1.40875759e-12, 7.23237538e-05, 1.37303411e-01],\n",
       "       [8.29608813e-03, 5.44113824e-04, 2.06251523e-04, 4.41720128e-05,\n",
       "        4.18911128e-03, 3.50074682e-03, 1.81878603e-09, 2.67339287e-08,\n",
       "        5.71531811e-05, 4.68348968e-06, 5.02719652e-03, 6.01647584e-07,\n",
       "        4.32037168e-01, 4.63286022e-04, 2.64078608e-09, 8.12072207e-04,\n",
       "        1.40875759e-12, 1.00000000e+00, 6.75540352e-03, 1.41911668e-09],\n",
       "       [8.50331915e-01, 5.95440569e-01, 4.56048493e-01, 4.81227932e-02,\n",
       "        1.22202212e-04, 1.28562063e-02, 3.92888271e-03, 1.12434549e-02,\n",
       "        4.00655361e-01, 1.37123901e-01, 4.45678730e-01, 6.88492128e-02,\n",
       "        7.67713380e-03, 7.38191823e-01, 5.75253540e-03, 3.65496688e-01,\n",
       "        7.23237538e-05, 6.75540352e-03, 1.00000000e+00, 5.73492101e-04],\n",
       "       [1.88083345e-03, 1.58941474e-04, 1.50063949e-04, 1.21138953e-07,\n",
       "        5.29251761e-15, 1.14896363e-03, 7.87342552e-05, 4.20718092e-01,\n",
       "        8.74537976e-04, 1.25932332e-01, 4.16245131e-06, 1.29826630e-01,\n",
       "        8.52540721e-11, 5.08342548e-03, 2.99074460e-04, 2.88945352e-02,\n",
       "        1.37303411e-01, 1.41911668e-09, 5.73492101e-04, 1.00000000e+00]])"
      ]
     },
     "execution_count": 855,
     "metadata": {},
     "output_type": "execute_result"
    }
   ],
   "source": [
    "Gram_Matrix(x)"
   ]
  },
  {
   "cell_type": "code",
   "execution_count": 856,
   "metadata": {},
   "outputs": [
    {
     "data": {
      "text/plain": [
       "0.1257360775345962"
      ]
     },
     "execution_count": 856,
     "metadata": {},
     "output_type": "execute_result"
    }
   ],
   "source": [
    "np.max(np.cov(Gram_Matrix(x)))"
   ]
  },
  {
   "cell_type": "code",
   "execution_count": 857,
   "metadata": {},
   "outputs": [],
   "source": [
    "def H(x):\n",
    "    mat = np.zeros((len(x), len(x)))\n",
    "    mat[0:len(x), 0:len(x)] = Gram_Matrix(x) + np.eye(len(x))/gamma\n",
    "    return mat"
   ]
  },
  {
   "cell_type": "code",
   "execution_count": 858,
   "metadata": {},
   "outputs": [],
   "source": [
    "def alpha():\n",
    "    a = np.dot(np.divide(np.linalg.inv(H_mat),np.dot(np.dot(e.T, np.linalg.inv(H_mat)),e)),e)\n",
    "    return a"
   ]
  },
  {
   "cell_type": "code",
   "execution_count": 859,
   "metadata": {},
   "outputs": [],
   "source": [
    "def rho():\n",
    "    p = np.divide(1, np.dot(np.dot(e.T, np.linalg.inv(H_mat)), e))\n",
    "    return p"
   ]
  },
  {
   "cell_type": "code",
   "execution_count": 860,
   "metadata": {},
   "outputs": [],
   "source": [
    "X_train, X_test, y_train, y_test = train_test_split(x, y, test_size = 0.25)"
   ]
  },
  {
   "cell_type": "code",
   "execution_count": 861,
   "metadata": {},
   "outputs": [],
   "source": [
    "e = np.ones(len(X_train))"
   ]
  },
  {
   "cell_type": "code",
   "execution_count": 862,
   "metadata": {},
   "outputs": [],
   "source": [
    "H_mat = H(X_train)"
   ]
  },
  {
   "cell_type": "code",
   "execution_count": 863,
   "metadata": {},
   "outputs": [],
   "source": [
    "a = alpha()"
   ]
  },
  {
   "cell_type": "code",
   "execution_count": 864,
   "metadata": {},
   "outputs": [],
   "source": [
    "rho = rho()"
   ]
  },
  {
   "cell_type": "code",
   "execution_count": 865,
   "metadata": {},
   "outputs": [],
   "source": [
    "def preds(data):\n",
    "    p = []\n",
    "    temp = []\n",
    "    for i in range(len(data)):\n",
    "        for j in range(len(X_train)):\n",
    "            temp.append(a[j]*Kernel(data[i], X_train[j], sigma))\n",
    "        p.append(sum(temp)+rho)\n",
    "        temp = []\n",
    "    \n",
    "    #Normalization\n",
    "    y_pred = []\n",
    "    Z = []\n",
    "    for i in range(0, len(p)):\n",
    "        denom = gamma*(np.sign(p[i])*(max(p) + min(p)) + (max(p) - min(p)))\n",
    "        num = 2*(np.abs(p[i]))\n",
    "        yt = 1 - (num/denom)\n",
    "        Z.append(yt)\n",
    "        if yt>0:\n",
    "            y_pred.append(1)\n",
    "        elif yt<0:\n",
    "            y_pred.append(-1)\n",
    "    return y_pred, Z"
   ]
  },
  {
   "cell_type": "code",
   "execution_count": 866,
   "metadata": {},
   "outputs": [],
   "source": [
    "p, Z = preds(x_out)"
   ]
  },
  {
   "cell_type": "code",
   "execution_count": 867,
   "metadata": {},
   "outputs": [],
   "source": [
    "p = np.array(p)"
   ]
  },
  {
   "cell_type": "code",
   "execution_count": 868,
   "metadata": {},
   "outputs": [],
   "source": [
    "n_error_outliers = p[p == 1].size"
   ]
  },
  {
   "cell_type": "code",
   "execution_count": 869,
   "metadata": {},
   "outputs": [
    {
     "name": "stdout",
     "output_type": "stream",
     "text": [
      "Number of errors =  0 / 9\n"
     ]
    }
   ],
   "source": [
    "print(\"Number of errors = \",n_error_outliers,\"/\",y_out.size)"
   ]
  },
  {
   "cell_type": "code",
   "execution_count": 870,
   "metadata": {},
   "outputs": [],
   "source": [
    "xx, yy = np.meshgrid(np.linspace(-5, 5, 50), np.linspace(-5, 5, 50))"
   ]
  },
  {
   "cell_type": "code",
   "execution_count": 871,
   "metadata": {},
   "outputs": [],
   "source": [
    "p, Z = preds(np.c_[xx.ravel(), yy.ravel()])"
   ]
  },
  {
   "cell_type": "code",
   "execution_count": 872,
   "metadata": {},
   "outputs": [],
   "source": [
    "Z = np.array(Z).reshape(xx.shape)"
   ]
  },
  {
   "cell_type": "code",
   "execution_count": 873,
   "metadata": {},
   "outputs": [
    {
     "name": "stderr",
     "output_type": "stream",
     "text": [
      "C:\\Users\\anmol\\Anaconda3\\lib\\site-packages\\matplotlib\\contour.py:1173: UserWarning: No contour levels were found within the data range.\n",
      "  warnings.warn(\"No contour levels were found\"\n"
     ]
    },
    {
     "data": {
      "image/png": "[encoded data removed]",
      "text/plain": [
       "<Figure size 432x288 with 1 Axes>"
      ]
     },
     "metadata": {},
     "output_type": "display_data"
    }
   ],
   "source": [
    "plt.contourf(xx, yy, Z, levels=np.linspace(Z.min(), 0, 7), cmap=plt.cm.PuBu)\n",
    "a = plt.contour(xx, yy, Z, levels=[0], linewidths=2, colors='darkred')\n",
    "\n",
    "s = 70\n",
    "b1 = plt.scatter(X_train[:, 0], X_train[:, 1], c='white', s=s, edgecolors='k')\n",
    "b2 = plt.scatter(X_test[:, 0], X_test[:, 1], c='blueviolet', s=s,\n",
    "                 edgecolors='k')\n",
    "c = plt.scatter(x_out[:, 0], x_out[:, 1], c='gold', s=s,\n",
    "                edgecolors='k')\n",
    "\n",
    "plt.xlim((-5, 5))\n",
    "plt.ylim((-5, 5))\n",
    "plt.legend([b1, b2, c],\n",
    "           [ \"training observations\",\n",
    "            \"test observations\", \"outliers\"],\n",
    "           loc=\"upper left\",\n",
    "           prop=mp.font_manager.FontProperties(size=11))\n",
    "plt.show()"
   ]
  },
  {
   "cell_type": "code",
   "execution_count": null,
   "metadata": {},
   "outputs": [],
   "source": []
  },
  {
   "cell_type": "markdown",
   "metadata": {},
   "source": [
    "## One Class SVM scikitlearn"
   ]
  },
  {
   "cell_type": "code",
   "execution_count": 874,
   "metadata": {},
   "outputs": [],
   "source": [
    "from sklearn import svm"
   ]
  },
  {
   "cell_type": "code",
   "execution_count": 875,
   "metadata": {},
   "outputs": [
    {
     "data": {
      "text/plain": [
       "OneClassSVM(cache_size=200, coef0=0.0, degree=3, gamma=0.1257360775345962,\n",
       "      kernel='rbf', max_iter=-1, nu=0.5, random_state=None, shrinking=True,\n",
       "      tol=0.001, verbose=False)"
      ]
     },
     "execution_count": 875,
     "metadata": {},
     "output_type": "execute_result"
    }
   ],
   "source": [
    "clf = svm.OneClassSVM(kernel = 'rbf', gamma = gamma)\n",
    "clf.fit(X_train, y_train)"
   ]
  },
  {
   "cell_type": "code",
   "execution_count": 876,
   "metadata": {},
   "outputs": [
    {
     "data": {
      "text/plain": [
       "array([ 1,  1, -1,  1, -1], dtype=int64)"
      ]
     },
     "execution_count": 876,
     "metadata": {},
     "output_type": "execute_result"
    }
   ],
   "source": [
    "y_pred_train = clf.predict(X_train)\n",
    "y_pred_test = clf.predict(X_test)\n",
    "y_pred_test"
   ]
  },
  {
   "cell_type": "code",
   "execution_count": 877,
   "metadata": {},
   "outputs": [],
   "source": [
    "n_error_train = y_pred_train[y_pred_train == -1].size\n",
    "n_error_test = y_pred_test[y_pred_test == -1].size"
   ]
  },
  {
   "cell_type": "code",
   "execution_count": 878,
   "metadata": {},
   "outputs": [],
   "source": [
    "xx, yy = np.meshgrid(np.linspace(-5, 5, 500), np.linspace(-5, 5, 500))\n",
    "Z = clf.decision_function(np.c_[xx.ravel(), yy.ravel()])\n",
    "Z = Z.reshape(xx.shape)"
   ]
  },
  {
   "cell_type": "code",
   "execution_count": 879,
   "metadata": {},
   "outputs": [
    {
     "data": {
      "text/plain": [
       "array([ 1,  1, -1,  1, -1], dtype=int64)"
      ]
     },
     "execution_count": 879,
     "metadata": {},
     "output_type": "execute_result"
    }
   ],
   "source": [
    "clf.predict(X_test)"
   ]
  },
  {
   "cell_type": "code",
   "execution_count": 880,
   "metadata": {},
   "outputs": [
    {
     "data": {
      "text/plain": [
       "array([ 1,  1, -1,  1, -1], dtype=int64)"
      ]
     },
     "execution_count": 880,
     "metadata": {},
     "output_type": "execute_result"
    }
   ],
   "source": [
    "y_pred_test"
   ]
  },
  {
   "cell_type": "code",
   "execution_count": 881,
   "metadata": {},
   "outputs": [
    {
     "data": {
      "image/png": "[encoded data removed]",
      "text/plain": [
       "<Figure size 432x288 with 1 Axes>"
      ]
     },
     "metadata": {},
     "output_type": "display_data"
    }
   ],
   "source": [
    "plt.contourf(xx, yy, Z, levels=np.linspace(Z.min(), 0, 7), cmap=plt.cm.PuBu)\n",
    "a = plt.contour(xx, yy, Z, levels=[0], linewidths=2, colors='black')\n",
    "plt.contourf(xx, yy, Z, levels=[0, Z.max()], colors='yellow')\n",
    "\n",
    "s = 40\n",
    "b1 = plt.scatter(X_train[:, 0], X_train[:, 1], c='green', s=s, edgecolors='k')\n",
    "b2 = plt.scatter(X_test[:, 0], X_test[:, 1], c='red', s=s,\n",
    "                 edgecolors='k')\n",
    "plt.axis('tight')\n",
    "plt.xlim((-5, 5))\n",
    "plt.ylim((-5, 5))\n",
    "\n",
    "plt.show()"
   ]
  },
  {
   "cell_type": "code",
   "execution_count": 882,
   "metadata": {},
   "outputs": [
    {
     "data": {
      "image/png": "[encoded data removed]",
      "text/plain": [
       "<Figure size 432x288 with 1 Axes>"
      ]
     },
     "metadata": {},
     "output_type": "display_data"
    }
   ],
   "source": [
    "b1 = plt.scatter(X_train[:, 0], X_train[:, 1], c='green', s=s, edgecolors='k')\n",
    "b2 = plt.scatter(X_test[:, 0], X_test[:, 1], c='red', s=s, edgecolors='k')\n",
    "plt.show()"
   ]
  },
  {
   "cell_type": "code",
   "execution_count": null,
   "metadata": {},
   "outputs": [],
   "source": []
  },
  {
   "cell_type": "code",
   "execution_count": null,
   "metadata": {},
   "outputs": [],
   "source": []
  }
 ],
 "metadata": {
  "kernelspec": {
   "display_name": "Python 3",
   "language": "python",
   "name": "python3"
  },
  "language_info": {
   "codemirror_mode": {
    "name": "ipython",
    "version": 3
   },
   "file_extension": ".py",
   "mimetype": "text/x-python",
   "name": "python",
   "nbconvert_exporter": "python",
   "pygments_lexer": "ipython3",
   "version": "3.6.5"
  }
 },
 "nbformat": 4,
 "nbformat_minor": 2
}
